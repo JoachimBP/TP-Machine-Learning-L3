{
 "cells": [
  {
   "cell_type": "markdown",
   "metadata": {},
   "source": [
    "# TP2 - Machine Learning\n",
    "\n",
    "## Objectifs du TP\n",
    "\n",
    "Il s'agit ici de développer des classifieurs simples. Dans un premier\n",
    "temps, dans le cas de données linéairement séparables, nous allons\n",
    "élaborer un premier modèle basé sur la séparation des barycentres des\n",
    "classes. Cette première étape permettra de nous familiariser avec la\n",
    "représentation graphique de données 2D en Python. Dans une deuxième\n",
    "phase, nous allons développer l'algorithme dit des *$k$ plus proches\n",
    "voisins* et nous l'appliquerons à la base de données `IRIS`. Pour\n",
    "manipuler les données de cette base, nous utiliserons le package\n",
    "`pandas` vu lors du TP précédent."
   ]
  },
  {
   "cell_type": "code",
   "execution_count": null,
   "metadata": {},
   "outputs": [],
   "source": [
    "import numpy as np\n",
    "import matplotlib.pyplot as plt"
   ]
  },
  {
   "cell_type": "markdown",
   "metadata": {},
   "source": [
    "## 1 - Génération de données 2D et visualisation\n",
    "\n",
    "(a) En utilisant la fonction `random()` du sous-module `random` de `numpy`, créer une\n",
    "    fonction qui génère un \\\"nuage\\\" aléatoire de $n$ points 2D\n",
    "    uniformément répartis autour d'une position $(x_0,y_0)$ et contenus\n",
    "    dans un carré de côté $2d$ centré sur cette position. Les\n",
    "    paramètres de cette fonction seront $n$, $(x_0,y_0)$ et $d$. La\n",
    "    fonction renverra les coordonnées des $n$ points générés.\n",
    "\n"
   ]
  },
  {
   "cell_type": "code",
   "execution_count": null,
   "metadata": {},
   "outputs": [],
   "source": []
  },
  {
   "attachments": {
    "nuages_de_points.png": {
     "image/png": "[encoded data removed]"
    }
   },
   "cell_type": "markdown",
   "metadata": {},
   "source": [
    "(b) Créer 2 nuages de points, l'un centré en (0.3, 0.4) et l'autre centré en (0.6, 0.6), en prenant comme paramètre d = 0.1. Afficher ces deux nuages sur une figure. On utilisera ici la fonction `plot` du package `matplotlib.pyplot`. On pourra régler l'échelle des axes à l'aide des fonctions `xlim` et `ylim` de ce package. Le résultat doit ressembler à la figure suivante:\n",
    "\n",
    "![nuages_de_points.png](attachment:nuages_de_points.png)"
   ]
  },
  {
   "cell_type": "code",
   "execution_count": null,
   "metadata": {},
   "outputs": [],
   "source": []
  },
  {
   "cell_type": "markdown",
   "metadata": {},
   "source": [
    "## 2 - Classification linéaire à partir des barycentres des classes\n",
    "\n",
    "(a) Créer une fonction qui à partir d'un nuage de points, déterminera le\n",
    "    centre du nuage de points."
   ]
  },
  {
   "cell_type": "code",
   "execution_count": null,
   "metadata": {},
   "outputs": [],
   "source": []
  },
  {
   "cell_type": "markdown",
   "metadata": {},
   "source": [
    "(b) Créer ensuite une fonction de décision qui à partir des coordonnées\n",
    "    d'un point P détermine dans quel groupe de points le séparateur\n",
    "    précédent classe ce point P. On pourra utiliser la\n",
    "    distance de P à chacun des barycentres des nuages de points.\n"
   ]
  },
  {
   "cell_type": "code",
   "execution_count": null,
   "metadata": {},
   "outputs": [],
   "source": []
  },
  {
   "cell_type": "markdown",
   "metadata": {},
   "source": [
    "(c) Faire afficher sur la figure précédente, les nuages de points, les\n",
    "    barycentres, le segment qui relie les centres ainsi que la\n",
    "    médiatrice."
   ]
  },
  {
   "cell_type": "code",
   "execution_count": null,
   "metadata": {},
   "outputs": [],
   "source": []
  },
  {
   "cell_type": "markdown",
   "metadata": {},
   "source": [
    "(d) Comment pourrait-on généraliser la fonction de décision précédente au cas où le\n",
    "    nombre de classes est supérieur à 2 ?"
   ]
  },
  {
   "cell_type": "markdown",
   "metadata": {},
   "source": [
    "## 3 - Classification par la méthode des $k$ plus proches voisins\n",
    "\n",
    "(a) Charger dans une `DataFrame` la base de données `IRIS` à partir du\n",
    "    fichier `IRIS.csv`.\n",
    "\n",
    "    Les colonnes de la DataFrame seront nommées\n",
    "    `’sl’,’sw’,’pl’,’pw’,’class’`."
   ]
  },
  {
   "cell_type": "code",
   "execution_count": null,
   "metadata": {},
   "outputs": [],
   "source": [
    "import pandas as pd"
   ]
  },
  {
   "cell_type": "code",
   "execution_count": null,
   "metadata": {},
   "outputs": [],
   "source": []
  },
  {
   "cell_type": "markdown",
   "metadata": {},
   "source": [
    "(b) Les valeurs de classes\n",
    "    `’Iris-setosa’,’Iris-versicolor’,’Iris-virginica` seront remplacées\n",
    "    par des valeurs numériques."
   ]
  },
  {
   "cell_type": "code",
   "execution_count": null,
   "metadata": {},
   "outputs": [],
   "source": []
  },
  {
   "cell_type": "markdown",
   "metadata": {},
   "source": [
    "(c) Créer une fonction `split` qui scindera une DataFrame en deux\n",
    "    DataFrames dont l'un contiendra 80% des échantillons et l'autre 20%.\n",
    "    Le premier constituera la base d'apprentissage et le second la base\n",
    "    de validation (test)."
   ]
  },
  {
   "cell_type": "code",
   "execution_count": null,
   "metadata": {},
   "outputs": [],
   "source": []
  },
  {
   "cell_type": "markdown",
   "metadata": {},
   "source": [
    "(d) Utiliser la fonction de mélange de la DataFrame créée lors du TP\n",
    "    précédent pour mélanger les lignes de vos deux DataFrames."
   ]
  },
  {
   "cell_type": "code",
   "execution_count": null,
   "metadata": {},
   "outputs": [],
   "source": []
  },
  {
   "cell_type": "markdown",
   "metadata": {},
   "source": [
    "(e) Créer une fonction qui, à partir d'un point $P$ donné, calcule la\n",
    "    liste des distances Euclidiennes de $P$ à tous les autres points de\n",
    "    la base d'apprentissage."
   ]
  },
  {
   "cell_type": "code",
   "execution_count": null,
   "metadata": {},
   "outputs": [],
   "source": []
  },
  {
   "cell_type": "markdown",
   "metadata": {},
   "source": [
    "(f) Créer une fonction qui à partir d'un point $P$ donné et un entier\n",
    "    $k$ renverra les $k$ plus proches voisins de $P$ au sens de la\n",
    "    distance Euclidienne calculée précédemment."
   ]
  },
  {
   "cell_type": "code",
   "execution_count": null,
   "metadata": {},
   "outputs": [],
   "source": []
  },
  {
   "cell_type": "markdown",
   "metadata": {},
   "source": [
    "(g) Créer ensuite une fonction de décision qui, à partir d'un point $P$\n",
    "    donné et du nombre de voisins $k$, renverra la classe majoritaire\n",
    "    parmi les $k$ voisins de $P$ considérée comme la classe de $P$."
   ]
  },
  {
   "cell_type": "code",
   "execution_count": null,
   "metadata": {},
   "outputs": [],
   "source": []
  },
  {
   "cell_type": "markdown",
   "metadata": {},
   "source": [
    "(h) En utilisant la fonction de décision créée précédemment, créer\n",
    "    maintenant une fonction qui calculera l'erreur de prédiction sur la\n",
    "    base de test (le deuxième DataFrame)."
   ]
  },
  {
   "cell_type": "code",
   "execution_count": null,
   "metadata": {},
   "outputs": [],
   "source": []
  },
  {
   "cell_type": "markdown",
   "metadata": {},
   "source": [
    "(i) Etudier l'évolution de l'erreur de prédiction sur la base de test en\n",
    "    fonction du choix de $k$.\n"
   ]
  },
  {
   "cell_type": "code",
   "execution_count": null,
   "metadata": {},
   "outputs": [],
   "source": []
  },
  {
   "cell_type": "markdown",
   "metadata": {},
   "source": [
    "(j) Créer des variantes de cet algorithme en remplaçant la distance\n",
    "    Euclidienne par d'autres choix de distances."
   ]
  },
  {
   "cell_type": "code",
   "execution_count": null,
   "metadata": {},
   "outputs": [],
   "source": []
  }
 ],
 "metadata": {
  "kernelspec": {
   "display_name": "Python 3 (ipykernel)",
   "language": "python",
   "name": "python3"
  },
  "language_info": {
   "codemirror_mode": {
    "name": "ipython",
    "version": 3
   },
   "file_extension": ".py",
   "mimetype": "text/x-python",
   "name": "python",
   "nbconvert_exporter": "python",
   "pygments_lexer": "ipython3",
   "version": "3.9.13"
  }
 },
 "nbformat": 4,
 "nbformat_minor": 2
}
